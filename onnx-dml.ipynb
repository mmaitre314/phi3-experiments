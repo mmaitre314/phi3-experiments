{
 "cells": [
  {
   "cell_type": "markdown",
   "metadata": {},
   "source": [
    "# Experiment: ONNX DirectML"
   ]
  },
  {
   "cell_type": "code",
   "execution_count": 1,
   "metadata": {},
   "outputs": [],
   "source": [
    "import onnxruntime as ort\n",
    "from pprint import pprint\n",
    "from onnx_utils import Model\n",
    "from unittest import TestCase\n",
    "test = TestCase()"
   ]
  },
  {
   "cell_type": "markdown",
   "metadata": {},
   "source": [
    "Validate the installation"
   ]
  },
  {
   "cell_type": "code",
   "execution_count": 2,
   "metadata": {},
   "outputs": [],
   "source": [
    "test.assertIn('DmlExecutionProvider', ort.get_available_providers())\n",
    "test.assertEqual(ort.get_device(), 'CPU-DML')\n",
    "test.assertIsNotNone(\n",
    "    ort.InferenceSession('directml/directml-int4-awq-block-128/model.onnx', providers=['DmlExecutionProvider']))"
   ]
  },
  {
   "cell_type": "markdown",
   "metadata": {},
   "source": [
    "Generate text"
   ]
  },
  {
   "cell_type": "code",
   "execution_count": 3,
   "metadata": {},
   "outputs": [
    {
     "name": "stdout",
     "output_type": "stream",
     "text": [
      "CPU times: total: 1.5 s\n",
      "Wall time: 4.68 s\n"
     ]
    }
   ],
   "source": [
    "%%time\n",
    "\n",
    "model = Model('directml/directml-int4-awq-block-128')"
   ]
  },
  {
   "cell_type": "code",
   "execution_count": 4,
   "metadata": {},
   "outputs": [
    {
     "ename": "RuntimeError",
     "evalue": "D:\\a\\_work\\1\\onnxruntime-genai\\src\\dml\\dml_command_recorder.cpp(143)\\onnxruntime_genai.cp312-win_amd64.pyd!00007FF8AE2CECC3: (caller: 00007FF8AE2C28F5) Exception(1) tid(1368) 887A0006 The GPU will not respond to more commands, most likely because of an invalid command passed by the calling application.\r\n",
     "output_type": "error",
     "traceback": [
      "\u001b[1;31m---------------------------------------------------------------------------\u001b[0m",
      "\u001b[1;31mRuntimeError\u001b[0m                              Traceback (most recent call last)",
      "File \u001b[1;32m<timed exec>:1\u001b[0m\n",
      "File \u001b[1;32mc:\\Source\\phi3-experiments\\onnx_utils.py:43\u001b[0m, in \u001b[0;36mModel.generate\u001b[1;34m(self, input)\u001b[0m\n\u001b[0;32m     41\u001b[0m time_first_token \u001b[38;5;241m=\u001b[39m \u001b[38;5;28;01mNone\u001b[39;00m\n\u001b[0;32m     42\u001b[0m \u001b[38;5;28;01mwhile\u001b[39;00m \u001b[38;5;129;01mnot\u001b[39;00m generator\u001b[38;5;241m.\u001b[39mis_done():\n\u001b[1;32m---> 43\u001b[0m     \u001b[43mgenerator\u001b[49m\u001b[38;5;241;43m.\u001b[39;49m\u001b[43mcompute_logits\u001b[49m\u001b[43m(\u001b[49m\u001b[43m)\u001b[49m\n\u001b[0;32m     44\u001b[0m     generator\u001b[38;5;241m.\u001b[39mgenerate_next_token()\n\u001b[0;32m     45\u001b[0m     output_token \u001b[38;5;241m=\u001b[39m generator\u001b[38;5;241m.\u001b[39mget_next_tokens()[\u001b[38;5;241m0\u001b[39m]\n",
      "\u001b[1;31mRuntimeError\u001b[0m: D:\\a\\_work\\1\\onnxruntime-genai\\src\\dml\\dml_command_recorder.cpp(143)\\onnxruntime_genai.cp312-win_amd64.pyd!00007FF8AE2CECC3: (caller: 00007FF8AE2C28F5) Exception(1) tid(1368) 887A0006 The GPU will not respond to more commands, most likely because of an invalid command passed by the calling application.\r\n"
     ]
    }
   ],
   "source": [
    "%%time\n",
    "\n",
    "output = model.generate('Tell a joke')\n",
    "\n",
    "print(output.text)\n",
    "print()\n",
    "pprint(output.stats)\n",
    "print()"
   ]
  },
  {
   "cell_type": "code",
   "execution_count": null,
   "metadata": {},
   "outputs": [],
   "source": []
  }
 ],
 "metadata": {
  "kernelspec": {
   "display_name": "phi3",
   "language": "python",
   "name": "python3"
  },
  "language_info": {
   "codemirror_mode": {
    "name": "ipython",
    "version": 3
   },
   "file_extension": ".py",
   "mimetype": "text/x-python",
   "name": "python",
   "nbconvert_exporter": "python",
   "pygments_lexer": "ipython3",
   "version": "3.12.3"
  }
 },
 "nbformat": 4,
 "nbformat_minor": 2
}
