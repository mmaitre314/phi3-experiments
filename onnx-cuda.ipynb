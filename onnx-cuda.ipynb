{
 "cells": [
  {
   "cell_type": "markdown",
   "metadata": {},
   "source": [
    "# Experiment: ONNX CUDA"
   ]
  },
  {
   "cell_type": "code",
   "execution_count": 1,
   "metadata": {},
   "outputs": [],
   "source": [
    "import os\n",
    "import onnxruntime as ort\n",
    "from pprint import pprint\n",
    "from onnx_utils import Model\n",
    "from unittest import TestCase\n",
    "test = TestCase()"
   ]
  },
  {
   "cell_type": "markdown",
   "metadata": {},
   "source": [
    "Add CUDA 11.8 and cuDNN 8.9.2.26 to the path"
   ]
  },
  {
   "cell_type": "code",
   "execution_count": 4,
   "metadata": {},
   "outputs": [],
   "source": [
    "os.environ['PATH'] = r'C:\\Tools\\cudnn-windows-x86_64-8.9.2.26_cuda11-archive\\bin;C:\\Program Files\\NVIDIA GPU Computing Toolkit\\CUDA\\v11.8\\bin;' + os.environ['PATH']"
   ]
  },
  {
   "cell_type": "markdown",
   "metadata": {},
   "source": [
    "Validate the installation"
   ]
  },
  {
   "cell_type": "code",
   "execution_count": 6,
   "metadata": {},
   "outputs": [],
   "source": [
    "test.assertIn('CUDAExecutionProvider', ort.get_available_providers())\n",
    "test.assertEqual(ort.get_device(), 'GPU')\n",
    "test.assertIsNotNone(\n",
    "    ort.InferenceSession('cuda/cuda-int4-rtn-block-32/phi3-mini-4k-instruct-cuda-int4-rtn-block-32.onnx', providers=['CUDAExecutionProvider']))"
   ]
  },
  {
   "cell_type": "markdown",
   "metadata": {},
   "source": [
    "Generate text"
   ]
  },
  {
   "cell_type": "code",
   "execution_count": 7,
   "metadata": {},
   "outputs": [
    {
     "name": "stdout",
     "output_type": "stream",
     "text": [
      "CPU times: total: 4.36 s\n",
      "Wall time: 8.39 s\n"
     ]
    }
   ],
   "source": [
    "%%time\n",
    "\n",
    "model = Model('cuda/cuda-int4-rtn-block-32')"
   ]
  },
  {
   "cell_type": "code",
   "execution_count": 8,
   "metadata": {},
   "outputs": [
    {
     "name": "stdout",
     "output_type": "stream",
     "text": [
      " Here's a light-hearted joke for you:\n",
      "\n",
      "Why don't scientists trust atoms?\n",
      "\n",
      "Because they make up everything!\n",
      "\n",
      "Remember, humor is subjective, so I hope you enjoy it!\n",
      "\n",
      "{'average_time_per_token': 0.04286607656263186,\n",
      " 'generation_time': 2.742596700001741,\n",
      " 'input_token_count': 13,\n",
      " 'input_tokens_per_second': 8.351891128341085,\n",
      " 'output_token_count': 51,\n",
      " 'output_tokens_per_second': 42.96925288742312,\n",
      " 'time_to_first_token': 1.5565337000007275,\n",
      " 'tokenization_time': 0.0008322000066982582,\n",
      " 'total_time': 2.743428900008439}\n",
      "\n",
      "CPU times: total: 1.47 s\n",
      "Wall time: 2.74 s\n"
     ]
    }
   ],
   "source": [
    "%%time\n",
    "\n",
    "output = model.generate('Tell a joke')\n",
    "\n",
    "print(output.text)\n",
    "print()\n",
    "pprint(output.stats)\n",
    "print()"
   ]
  },
  {
   "cell_type": "code",
   "execution_count": null,
   "metadata": {},
   "outputs": [],
   "source": []
  }
 ],
 "metadata": {
  "kernelspec": {
   "display_name": "phi3",
   "language": "python",
   "name": "python3"
  },
  "language_info": {
   "codemirror_mode": {
    "name": "ipython",
    "version": 3
   },
   "file_extension": ".py",
   "mimetype": "text/x-python",
   "name": "python",
   "nbconvert_exporter": "python",
   "pygments_lexer": "ipython3",
   "version": "3.10.14"
  }
 },
 "nbformat": 4,
 "nbformat_minor": 2
}
