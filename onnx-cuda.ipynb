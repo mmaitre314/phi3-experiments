{
 "cells": [
  {
   "cell_type": "markdown",
   "metadata": {},
   "source": [
    "# Experiment: ONNX CUDA"
   ]
  },
  {
   "cell_type": "code",
   "execution_count": 1,
   "metadata": {},
   "outputs": [],
   "source": [
    "import os\n",
    "import nvidia.cuda_runtime.bin\n",
    "import nvidia.cudnn.bin\n",
    "import onnxruntime as ort\n",
    "from pprint import pprint\n",
    "from onnx_utils import Model\n",
    "from unittest import TestCase\n",
    "test = TestCase()"
   ]
  },
  {
   "cell_type": "markdown",
   "metadata": {},
   "source": [
    "Add CUDA 11.8 and cuDNN 8.9.2.26 to `PATH`"
   ]
  },
  {
   "cell_type": "code",
   "execution_count": 5,
   "metadata": {},
   "outputs": [],
   "source": [
    "os.environ['PATH'] = os.path.dirname(nvidia.cuda_runtime.bin.__file__) + ';' + os.path.dirname(nvidia.cudnn.bin.__file__) + ';' + os.environ['PATH']\n",
    "\n",
    "# If running CUDA and cuDNN from the virtual environment does not work, perform a system-wide install and update the PATH as follow (adjusting paths as needed)\n",
    "# - CUDA 11.8: https://developer.nvidia.com/cuda-11-8-0-download-archive\n",
    "# - cuDNN 8.9.2.26: https://developer.nvidia.com/rdp/cudnn-archive\n",
    "# os.environ['PATH'] = r'C:\\Tools\\cudnn-windows-x86_64-8.9.2.26_cuda11-archive\\bin;C:\\Program Files\\NVIDIA GPU Computing Toolkit\\CUDA\\v11.8\\bin;' + os.environ['PATH']"
   ]
  },
  {
   "cell_type": "markdown",
   "metadata": {},
   "source": [
    "Validate the installation"
   ]
  },
  {
   "cell_type": "code",
   "execution_count": 7,
   "metadata": {},
   "outputs": [],
   "source": [
    "test.assertIn('CUDAExecutionProvider', ort.get_available_providers())\n",
    "test.assertEqual(ort.get_device(), 'GPU')\n",
    "test.assertIsNotNone(\n",
    "    ort.InferenceSession('cuda/cuda-int4-rtn-block-32/phi3-mini-4k-instruct-cuda-int4-rtn-block-32.onnx', providers=['CUDAExecutionProvider']))"
   ]
  },
  {
   "cell_type": "markdown",
   "metadata": {},
   "source": [
    "Generate text"
   ]
  },
  {
   "cell_type": "code",
   "execution_count": 8,
   "metadata": {},
   "outputs": [
    {
     "name": "stdout",
     "output_type": "stream",
     "text": [
      "CPU times: total: 1.89 s\n",
      "Wall time: 3.81 s\n"
     ]
    }
   ],
   "source": [
    "%%time\n",
    "\n",
    "model = Model('cuda/cuda-int4-rtn-block-32')"
   ]
  },
  {
   "cell_type": "code",
   "execution_count": 9,
   "metadata": {},
   "outputs": [
    {
     "name": "stdout",
     "output_type": "stream",
     "text": [
      " Here's a light-hearted joke for you:\n",
      "\n",
      "Why don't scientists trust atoms?\n",
      "\n",
      "Because they make up everything!\n",
      "\n",
      "Remember, humor is subjective, so I hope you enjoy it!\n",
      "\n",
      "{'average_time_per_token': 0.02680287187513386,\n",
      " 'generation_time': 1.7148828000063077,\n",
      " 'input_token_count': 13,\n",
      " 'input_tokens_per_second': 14.666796336169563,\n",
      " 'output_token_count': 51,\n",
      " 'output_tokens_per_second': 61.51782569412104,\n",
      " 'time_to_first_token': 0.8863558000011835,\n",
      " 'tokenization_time': 0.0005010000022593886,\n",
      " 'total_time': 1.715383800008567}\n",
      "\n",
      "CPU times: total: 1.16 s\n",
      "Wall time: 1.72 s\n"
     ]
    }
   ],
   "source": [
    "%%time\n",
    "\n",
    "output = model.generate('Tell a joke')\n",
    "\n",
    "print(output.text)\n",
    "print()\n",
    "pprint(output.stats)\n",
    "print()"
   ]
  },
  {
   "cell_type": "code",
   "execution_count": null,
   "metadata": {},
   "outputs": [],
   "source": []
  }
 ],
 "metadata": {
  "kernelspec": {
   "display_name": "phi3",
   "language": "python",
   "name": "python3"
  },
  "language_info": {
   "codemirror_mode": {
    "name": "ipython",
    "version": 3
   },
   "file_extension": ".py",
   "mimetype": "text/x-python",
   "name": "python",
   "nbconvert_exporter": "python",
   "pygments_lexer": "ipython3",
   "version": "3.10.14"
  }
 },
 "nbformat": 4,
 "nbformat_minor": 2
}
