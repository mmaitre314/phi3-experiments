{
 "cells": [
  {
   "cell_type": "markdown",
   "metadata": {},
   "source": [
    "# Experiment: ONNX CPU"
   ]
  },
  {
   "cell_type": "code",
   "execution_count": 1,
   "metadata": {},
   "outputs": [],
   "source": [
    "import onnxruntime as ort\n",
    "from pprint import pprint\n",
    "from onnx_utils import Model\n",
    "from unittest import TestCase\n",
    "test = TestCase()"
   ]
  },
  {
   "cell_type": "markdown",
   "metadata": {},
   "source": [
    "Validate the installation"
   ]
  },
  {
   "cell_type": "code",
   "execution_count": 2,
   "metadata": {},
   "outputs": [],
   "source": [
    "test.assertIn('CPUExecutionProvider', ort.get_available_providers())\n",
    "test.assertEqual(ort.get_device(), 'CPU')\n",
    "test.assertIsNotNone(\n",
    "    ort.InferenceSession('./cpu_and_mobile/cpu-int4-rtn-block-32-acc-level-4/phi3-mini-4k-instruct-cpu-int4-rtn-block-32-acc-level-4.onnx', providers=['CPUExecutionProvider']))"
   ]
  },
  {
   "cell_type": "markdown",
   "metadata": {},
   "source": [
    "Generate text"
   ]
  },
  {
   "cell_type": "code",
   "execution_count": 3,
   "metadata": {},
   "outputs": [
    {
     "name": "stdout",
     "output_type": "stream",
     "text": [
      "CPU times: total: 4.45 s\n",
      "Wall time: 7.14 s\n"
     ]
    }
   ],
   "source": [
    "%%time\n",
    "\n",
    "model = Model('cpu_and_mobile/cpu-int4-rtn-block-32-acc-level-4')"
   ]
  },
  {
   "cell_type": "code",
   "execution_count": 4,
   "metadata": {},
   "outputs": [
    {
     "name": "stdout",
     "output_type": "stream",
     "text": [
      " Here's a light-hearted joke for you:\n",
      "\n",
      "Why don't scientists trust atoms?\n",
      "\n",
      "Because they make up everything!\n",
      "\n",
      "Remember, humor is subjective, so I hope you enjoy this little joke!\n",
      "\n",
      "{'average_time_per_token': 0.1787891880597801,\n",
      " 'generation_time': 11.978454600000987,\n",
      " 'input_token_count': 13,\n",
      " 'input_tokens_per_second': 6.768028479018486,\n",
      " 'output_token_count': 54,\n",
      " 'output_tokens_per_second': 5.368817958981471,\n",
      " 'time_to_first_token': 1.9207957000035094,\n",
      " 'tokenization_time': 0.00042100000428035855,\n",
      " 'total_time': 11.978875600005267}\n",
      "\n",
      "CPU times: total: 32.3 s\n",
      "Wall time: 12 s\n"
     ]
    }
   ],
   "source": [
    "%%time\n",
    "\n",
    "output = model.generate('Tell a joke')\n",
    "\n",
    "print(output.text)\n",
    "print()\n",
    "pprint(output.stats)\n",
    "print()"
   ]
  },
  {
   "cell_type": "code",
   "execution_count": null,
   "metadata": {},
   "outputs": [],
   "source": []
  }
 ],
 "metadata": {
  "kernelspec": {
   "display_name": "phi3",
   "language": "python",
   "name": "python3"
  },
  "language_info": {
   "codemirror_mode": {
    "name": "ipython",
    "version": 3
   },
   "file_extension": ".py",
   "mimetype": "text/x-python",
   "name": "python",
   "nbconvert_exporter": "python",
   "pygments_lexer": "ipython3",
   "version": "3.12.3"
  }
 },
 "nbformat": 4,
 "nbformat_minor": 2
}
